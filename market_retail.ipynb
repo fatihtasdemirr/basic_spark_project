{
 "cells": [
  {
   "cell_type": "code",
   "execution_count": 1,
   "id": "edf32ecf-c86b-4a5d-a9ee-7117098fa7f9",
   "metadata": {},
   "outputs": [],
   "source": [
    "import findspark\n",
    "findspark.init(\"/opt/spark\")\n",
    "from pyspark.sql import SparkSession\n",
    "from pyspark.sql.types import *\n",
    "from pyspark.sql import functions as F"
   ]
  },
  {
   "cell_type": "code",
   "execution_count": 2,
   "id": "2587b427-19be-466f-a4fe-d1b0b2955acc",
   "metadata": {},
   "outputs": [
    {
     "name": "stdout",
     "output_type": "stream",
     "text": [
      ":: loading settings :: url = jar:file:/opt/spark/jars/ivy-2.5.1.jar!/org/apache/ivy/core/settings/ivysettings.xml\n"
     ]
    },
    {
     "name": "stderr",
     "output_type": "stream",
     "text": [
      "Ivy Default Cache set to: /root/.ivy2/cache\n",
      "The jars for the packages stored in: /root/.ivy2/jars\n",
      "io.delta#delta-core_2.12 added as a dependency\n",
      ":: resolving dependencies :: org.apache.spark#spark-submit-parent-6e1644ae-0042-415c-830c-5f73255a8b3f;1.0\n",
      "\tconfs: [default]\n",
      "\tfound io.delta#delta-core_2.12;2.4.0 in central\n",
      "\tfound io.delta#delta-storage;2.4.0 in central\n",
      "\tfound org.antlr#antlr4-runtime;4.9.3 in central\n",
      ":: resolution report :: resolve 558ms :: artifacts dl 13ms\n",
      "\t:: modules in use:\n",
      "\tio.delta#delta-core_2.12;2.4.0 from central in [default]\n",
      "\tio.delta#delta-storage;2.4.0 from central in [default]\n",
      "\torg.antlr#antlr4-runtime;4.9.3 from central in [default]\n",
      "\t---------------------------------------------------------------------\n",
      "\t|                  |            modules            ||   artifacts   |\n",
      "\t|       conf       | number| search|dwnlded|evicted|| number|dwnlded|\n",
      "\t---------------------------------------------------------------------\n",
      "\t|      default     |   3   |   0   |   0   |   0   ||   3   |   0   |\n",
      "\t---------------------------------------------------------------------\n",
      ":: retrieving :: org.apache.spark#spark-submit-parent-6e1644ae-0042-415c-830c-5f73255a8b3f\n",
      "\tconfs: [default]\n",
      "\t0 artifacts copied, 3 already retrieved (0kB/13ms)\n",
      "23/11/21 16:55:26 WARN NativeCodeLoader: Unable to load native-hadoop library for your platform... using builtin-java classes where applicable\n",
      "Setting default log level to \"WARN\".\n",
      "To adjust logging level use sc.setLogLevel(newLevel). For SparkR, use setLogLevel(newLevel).\n"
     ]
    }
   ],
   "source": [
    "spark = SparkSession.builder \\\n",
    ".appName(\"market_retail\") \\\n",
    ".config(\"spark.jars.packages\", \"io.delta:delta-core_2.12:2.4.0\") \\\n",
    ".config(\"spark.executer.memory\",\"2g\") \\\n",
    ".config(\"spark.driver.memory\",\"1g\") \\\n",
    ".master(\"local[2]\") \\\n",
    ".enableHiveSupport() \\\n",
    ".getOrCreate()"
   ]
  },
  {
   "cell_type": "code",
   "execution_count": 3,
   "id": "5f4be1c9-7a6d-45de-b9dd-63ab60e41a98",
   "metadata": {},
   "outputs": [
    {
     "name": "stderr",
     "output_type": "stream",
     "text": [
      "                                                                                \r"
     ]
    },
    {
     "name": "stdout",
     "output_type": "stream",
     "text": [
      "+-------------+----------------+------------------+-----------------+-----------------+---------------------+\n",
      "|orderItemName|orderItemOrderId|orderItemProductId|orderItemQuantity|orderItemSubTotal|orderItemProductPrice|\n",
      "+-------------+----------------+------------------+-----------------+-----------------+---------------------+\n",
      "|            1|               1|               957|                1|           299.98|               299.98|\n",
      "|            2|               2|              1073|                1|           199.99|               199.99|\n",
      "|            3|               2|               502|                5|            250.0|                 50.0|\n",
      "+-------------+----------------+------------------+-----------------+-----------------+---------------------+\n",
      "only showing top 3 rows\n",
      "\n"
     ]
    }
   ],
   "source": [
    "#direkt olarak github'tan veri seti çekmek\n",
    "from pyspark import SparkFiles\n",
    "sc = spark.sparkContext\n",
    "github_url = \"https://raw.githubusercontent.com/erkansirin78/datasets/master/retail_db/order_items.csv\"\n",
    "sc.addFile(github_url)\n",
    "order_items = spark.read.csv(SparkFiles.get(\"order_items.csv\"),header= True, inferSchema=True)\n",
    "order_items.show(3)"
   ]
  },
  {
   "cell_type": "code",
   "execution_count": 4,
   "id": "78bca953-d6a5-41fb-b3fa-478b09e2733d",
   "metadata": {},
   "outputs": [
    {
     "name": "stderr",
     "output_type": "stream",
     "text": [
      "                                                                                \r"
     ]
    },
    {
     "name": "stdout",
     "output_type": "stream",
     "text": [
      "+-------+-------------------+---------------+---------------+\n",
      "|orderId|          orderDate|orderCustomerId|    orderStatus|\n",
      "+-------+-------------------+---------------+---------------+\n",
      "|      1|2013-07-25 00:00:00|          11599|         CLOSED|\n",
      "|      2|2013-07-25 00:00:00|            256|PENDING_PAYMENT|\n",
      "|      3|2013-07-25 00:00:00|          12111|       COMPLETE|\n",
      "+-------+-------------------+---------------+---------------+\n",
      "only showing top 3 rows\n",
      "\n"
     ]
    }
   ],
   "source": [
    "sc = spark.sparkContext\n",
    "github_url = \"https://raw.githubusercontent.com/erkansirin78/datasets/master/retail_db/orders.csv\"\n",
    "sc.addFile(github_url)\n",
    "orders = spark.read.csv(SparkFiles.get(\"orders.csv\"),header= True, inferSchema=True)\n",
    "orders.show(3)"
   ]
  },
  {
   "cell_type": "code",
   "execution_count": 5,
   "id": "71839108-0892-4232-a7df-1944632436cf",
   "metadata": {},
   "outputs": [
    {
     "name": "stdout",
     "output_type": "stream",
     "text": [
      "+---------+-----------------+--------------------+------------------+------------+--------------------+\n",
      "|productId|productCategoryId|         productName|productDescription|productPrice|        productImage|\n",
      "+---------+-----------------+--------------------+------------------+------------+--------------------+\n",
      "|        1|                2|Quest Q64 10 FT. ...|              null|       59.98|http://images.acm...|\n",
      "|        2|                2|Under Armour Men'...|              null|      129.99|http://images.acm...|\n",
      "|        3|                2|Under Armour Men'...|              null|       89.99|http://images.acm...|\n",
      "+---------+-----------------+--------------------+------------------+------------+--------------------+\n",
      "only showing top 3 rows\n",
      "\n"
     ]
    }
   ],
   "source": [
    "sc = spark.sparkContext\n",
    "github_url = \"https://raw.githubusercontent.com/erkansirin78/datasets/master/retail_db/products.csv\"\n",
    "sc.addFile(github_url)\n",
    "products = spark.read.csv(SparkFiles.get(\"products.csv\"),header= True, inferSchema=True)\n",
    "products.show(3)"
   ]
  },
  {
   "cell_type": "code",
   "execution_count": 6,
   "id": "65de1397-bab1-440c-81e5-392495540f9f",
   "metadata": {},
   "outputs": [
    {
     "name": "stdout",
     "output_type": "stream",
     "text": [
      "+----------+--------------------+-------------------+\n",
      "|categoryId|categoryDepartmentId|       categoryName|\n",
      "+----------+--------------------+-------------------+\n",
      "|         1|                   2|           Football|\n",
      "|         2|                   2|             Soccer|\n",
      "|         3|                   2|Baseball & Softball|\n",
      "+----------+--------------------+-------------------+\n",
      "only showing top 3 rows\n",
      "\n"
     ]
    }
   ],
   "source": [
    "sc = spark.sparkContext\n",
    "github_url = \"https://raw.githubusercontent.com/erkansirin78/datasets/master/retail_db/categories.csv\"\n",
    "sc.addFile(github_url)\n",
    "categories = spark.read.csv(SparkFiles.get(\"categories.csv\"),header= True, inferSchema=True)\n",
    "categories.show(3)"
   ]
  },
  {
   "cell_type": "code",
   "execution_count": 7,
   "id": "0f6d2a67-9ff0-441c-bf26-eb713a133f6c",
   "metadata": {},
   "outputs": [
    {
     "data": {
      "text/html": [
       "<div>\n",
       "<style scoped>\n",
       "    .dataframe tbody tr th:only-of-type {\n",
       "        vertical-align: middle;\n",
       "    }\n",
       "\n",
       "    .dataframe tbody tr th {\n",
       "        vertical-align: top;\n",
       "    }\n",
       "\n",
       "    .dataframe thead th {\n",
       "        text-align: right;\n",
       "    }\n",
       "</style>\n",
       "<table border=\"1\" class=\"dataframe\">\n",
       "  <thead>\n",
       "    <tr style=\"text-align: right;\">\n",
       "      <th></th>\n",
       "      <th>productId</th>\n",
       "      <th>productName</th>\n",
       "      <th>categoryName</th>\n",
       "    </tr>\n",
       "  </thead>\n",
       "  <tbody>\n",
       "    <tr>\n",
       "      <th>0</th>\n",
       "      <td>1</td>\n",
       "      <td>Quest Q64 10 FT. x 10 FT. Slant Leg Instant U</td>\n",
       "      <td>Soccer</td>\n",
       "    </tr>\n",
       "    <tr>\n",
       "      <th>1</th>\n",
       "      <td>2</td>\n",
       "      <td>Under Armour Men's Highlight MC Football Clea</td>\n",
       "      <td>Soccer</td>\n",
       "    </tr>\n",
       "    <tr>\n",
       "      <th>2</th>\n",
       "      <td>3</td>\n",
       "      <td>Under Armour Men's Renegade D Mid Football Cl</td>\n",
       "      <td>Soccer</td>\n",
       "    </tr>\n",
       "    <tr>\n",
       "      <th>3</th>\n",
       "      <td>4</td>\n",
       "      <td>Under Armour Men's Renegade D Mid Football Cl</td>\n",
       "      <td>Soccer</td>\n",
       "    </tr>\n",
       "    <tr>\n",
       "      <th>4</th>\n",
       "      <td>5</td>\n",
       "      <td>Riddell Youth Revolution Speed Custom Footbal</td>\n",
       "      <td>Soccer</td>\n",
       "    </tr>\n",
       "  </tbody>\n",
       "</table>\n",
       "</div>"
      ],
      "text/plain": [
       "   productId                                    productName categoryName\n",
       "0          1  Quest Q64 10 FT. x 10 FT. Slant Leg Instant U       Soccer\n",
       "1          2  Under Armour Men's Highlight MC Football Clea       Soccer\n",
       "2          3  Under Armour Men's Renegade D Mid Football Cl       Soccer\n",
       "3          4  Under Armour Men's Renegade D Mid Football Cl       Soccer\n",
       "4          5  Riddell Youth Revolution Speed Custom Footbal       Soccer"
      ]
     },
     "execution_count": 7,
     "metadata": {},
     "output_type": "execute_result"
    }
   ],
   "source": [
    "# Products ve Categories birleştirme.\n",
    "cat_products = products.join(categories, products['productCategoryId'] == categories['categoryId']) \\\n",
    ".select(\"productId\",\"productName\", \"categoryName\")\n",
    "cat_products.limit(5).toPandas().head()"
   ]
  },
  {
   "cell_type": "code",
   "execution_count": 8,
   "id": "6acaf882-fb1b-466d-8c8a-530d6c30f4d9",
   "metadata": {},
   "outputs": [
    {
     "name": "stderr",
     "output_type": "stream",
     "text": [
      "                                                                                \r"
     ]
    },
    {
     "data": {
      "text/html": [
       "<div>\n",
       "<style scoped>\n",
       "    .dataframe tbody tr th:only-of-type {\n",
       "        vertical-align: middle;\n",
       "    }\n",
       "\n",
       "    .dataframe tbody tr th {\n",
       "        vertical-align: top;\n",
       "    }\n",
       "\n",
       "    .dataframe thead th {\n",
       "        text-align: right;\n",
       "    }\n",
       "</style>\n",
       "<table border=\"1\" class=\"dataframe\">\n",
       "  <thead>\n",
       "    <tr style=\"text-align: right;\">\n",
       "      <th></th>\n",
       "      <th>orderId</th>\n",
       "      <th>orderItemProductId</th>\n",
       "      <th>orderItemSubTotal</th>\n",
       "      <th>orderStatus</th>\n",
       "    </tr>\n",
       "  </thead>\n",
       "  <tbody>\n",
       "    <tr>\n",
       "      <th>0</th>\n",
       "      <td>1</td>\n",
       "      <td>957</td>\n",
       "      <td>299.98</td>\n",
       "      <td>CLOSED</td>\n",
       "    </tr>\n",
       "    <tr>\n",
       "      <th>1</th>\n",
       "      <td>2</td>\n",
       "      <td>1073</td>\n",
       "      <td>199.99</td>\n",
       "      <td>PENDING_PAYMENT</td>\n",
       "    </tr>\n",
       "    <tr>\n",
       "      <th>2</th>\n",
       "      <td>2</td>\n",
       "      <td>502</td>\n",
       "      <td>250.00</td>\n",
       "      <td>PENDING_PAYMENT</td>\n",
       "    </tr>\n",
       "    <tr>\n",
       "      <th>3</th>\n",
       "      <td>2</td>\n",
       "      <td>403</td>\n",
       "      <td>129.99</td>\n",
       "      <td>PENDING_PAYMENT</td>\n",
       "    </tr>\n",
       "    <tr>\n",
       "      <th>4</th>\n",
       "      <td>4</td>\n",
       "      <td>897</td>\n",
       "      <td>49.98</td>\n",
       "      <td>CLOSED</td>\n",
       "    </tr>\n",
       "  </tbody>\n",
       "</table>\n",
       "</div>"
      ],
      "text/plain": [
       "   orderId  orderItemProductId  orderItemSubTotal      orderStatus\n",
       "0        1                 957             299.98           CLOSED\n",
       "1        2                1073             199.99  PENDING_PAYMENT\n",
       "2        2                 502             250.00  PENDING_PAYMENT\n",
       "3        2                 403             129.99  PENDING_PAYMENT\n",
       "4        4                 897              49.98           CLOSED"
      ]
     },
     "execution_count": 8,
     "metadata": {},
     "output_type": "execute_result"
    }
   ],
   "source": [
    "# orders ve order_items birleştirme\n",
    "orders_and_items = order_items.join(orders, order_items['orderItemOrderId'] == orders['orderId']) \\\n",
    ".select(\"orderId\",\"orderItemProductId\",\"orderItemSubTotal\",\"orderStatus\")\n",
    "orders_and_items.limit(5).toPandas().head()"
   ]
  },
  {
   "cell_type": "code",
   "execution_count": 9,
   "id": "a05c96b5-518b-4aa5-9858-b9e7133f168d",
   "metadata": {},
   "outputs": [
    {
     "name": "stderr",
     "output_type": "stream",
     "text": [
      "                                                                                \r"
     ]
    },
    {
     "data": {
      "text/html": [
       "<div>\n",
       "<style scoped>\n",
       "    .dataframe tbody tr th:only-of-type {\n",
       "        vertical-align: middle;\n",
       "    }\n",
       "\n",
       "    .dataframe tbody tr th {\n",
       "        vertical-align: top;\n",
       "    }\n",
       "\n",
       "    .dataframe thead th {\n",
       "        text-align: right;\n",
       "    }\n",
       "</style>\n",
       "<table border=\"1\" class=\"dataframe\">\n",
       "  <thead>\n",
       "    <tr style=\"text-align: right;\">\n",
       "      <th></th>\n",
       "      <th>orderId</th>\n",
       "      <th>orderItemProductId</th>\n",
       "      <th>orderItemSubTotal</th>\n",
       "      <th>orderStatus</th>\n",
       "      <th>productId</th>\n",
       "      <th>productName</th>\n",
       "      <th>categoryName</th>\n",
       "    </tr>\n",
       "  </thead>\n",
       "  <tbody>\n",
       "    <tr>\n",
       "      <th>0</th>\n",
       "      <td>4</td>\n",
       "      <td>897</td>\n",
       "      <td>49.98</td>\n",
       "      <td>CLOSED</td>\n",
       "      <td>897</td>\n",
       "      <td>Team Golf New England Patriots Putter Grip</td>\n",
       "      <td>Accessories</td>\n",
       "    </tr>\n",
       "    <tr>\n",
       "      <th>1</th>\n",
       "      <td>21</td>\n",
       "      <td>897</td>\n",
       "      <td>74.97</td>\n",
       "      <td>PENDING</td>\n",
       "      <td>897</td>\n",
       "      <td>Team Golf New England Patriots Putter Grip</td>\n",
       "      <td>Accessories</td>\n",
       "    </tr>\n",
       "    <tr>\n",
       "      <th>2</th>\n",
       "      <td>312</td>\n",
       "      <td>897</td>\n",
       "      <td>74.97</td>\n",
       "      <td>COMPLETE</td>\n",
       "      <td>897</td>\n",
       "      <td>Team Golf New England Patriots Putter Grip</td>\n",
       "      <td>Accessories</td>\n",
       "    </tr>\n",
       "    <tr>\n",
       "      <th>3</th>\n",
       "      <td>697</td>\n",
       "      <td>897</td>\n",
       "      <td>49.98</td>\n",
       "      <td>COMPLETE</td>\n",
       "      <td>897</td>\n",
       "      <td>Team Golf New England Patriots Putter Grip</td>\n",
       "      <td>Accessories</td>\n",
       "    </tr>\n",
       "    <tr>\n",
       "      <th>4</th>\n",
       "      <td>1631</td>\n",
       "      <td>897</td>\n",
       "      <td>49.98</td>\n",
       "      <td>CLOSED</td>\n",
       "      <td>897</td>\n",
       "      <td>Team Golf New England Patriots Putter Grip</td>\n",
       "      <td>Accessories</td>\n",
       "    </tr>\n",
       "  </tbody>\n",
       "</table>\n",
       "</div>"
      ],
      "text/plain": [
       "   orderId  orderItemProductId  orderItemSubTotal orderStatus  productId  \\\n",
       "0        4                 897              49.98      CLOSED        897   \n",
       "1       21                 897              74.97     PENDING        897   \n",
       "2      312                 897              74.97    COMPLETE        897   \n",
       "3      697                 897              49.98    COMPLETE        897   \n",
       "4     1631                 897              49.98      CLOSED        897   \n",
       "\n",
       "                                  productName categoryName  \n",
       "0  Team Golf New England Patriots Putter Grip  Accessories  \n",
       "1  Team Golf New England Patriots Putter Grip  Accessories  \n",
       "2  Team Golf New England Patriots Putter Grip  Accessories  \n",
       "3  Team Golf New England Patriots Putter Grip  Accessories  \n",
       "4  Team Golf New England Patriots Putter Grip  Accessories  "
      ]
     },
     "execution_count": 9,
     "metadata": {},
     "output_type": "execute_result"
    }
   ],
   "source": [
    "# Ceategory-Products birleşimini iptal edilmiş siparişlerle ürün id üzerinden birleştirme\n",
    "final_table = orders_and_items.join(cat_products, orders_and_items['orderItemProductId'] == cat_products['productId'])\n",
    "final_table.limit(5).toPandas().head(5)"
   ]
  },
  {
   "cell_type": "code",
   "execution_count": 12,
   "id": "56dbd98c-20dc-43c2-9a45-4cf821ba885c",
   "metadata": {},
   "outputs": [
    {
     "name": "stderr",
     "output_type": "stream",
     "text": [
      "                                                                                \r"
     ]
    },
    {
     "data": {
      "text/html": [
       "<div>\n",
       "<style scoped>\n",
       "    .dataframe tbody tr th:only-of-type {\n",
       "        vertical-align: middle;\n",
       "    }\n",
       "\n",
       "    .dataframe tbody tr th {\n",
       "        vertical-align: top;\n",
       "    }\n",
       "\n",
       "    .dataframe thead th {\n",
       "        text-align: right;\n",
       "    }\n",
       "</style>\n",
       "<table border=\"1\" class=\"dataframe\">\n",
       "  <thead>\n",
       "    <tr style=\"text-align: right;\">\n",
       "      <th></th>\n",
       "      <th>productName</th>\n",
       "      <th>Totalprice</th>\n",
       "    </tr>\n",
       "  </thead>\n",
       "  <tbody>\n",
       "    <tr>\n",
       "      <th>0</th>\n",
       "      <td>Field &amp; Stream Sportsman 16 Gun Fire Safe</td>\n",
       "      <td>134393.28</td>\n",
       "    </tr>\n",
       "    <tr>\n",
       "      <th>1</th>\n",
       "      <td>Perfect Fitness Perfect Rip Deck</td>\n",
       "      <td>85785.70</td>\n",
       "    </tr>\n",
       "    <tr>\n",
       "      <th>2</th>\n",
       "      <td>Nike Men's Free 5.0+ Running Shoe</td>\n",
       "      <td>80691.93</td>\n",
       "    </tr>\n",
       "    <tr>\n",
       "      <th>3</th>\n",
       "      <td>Diamondback Women's Serene Classic Comfort Bi</td>\n",
       "      <td>80094.66</td>\n",
       "    </tr>\n",
       "    <tr>\n",
       "      <th>4</th>\n",
       "      <td>Pelican Sunstream 100 Kayak</td>\n",
       "      <td>66196.69</td>\n",
       "    </tr>\n",
       "  </tbody>\n",
       "</table>\n",
       "</div>"
      ],
      "text/plain": [
       "                                     productName  Totalprice\n",
       "0      Field & Stream Sportsman 16 Gun Fire Safe   134393.28\n",
       "1               Perfect Fitness Perfect Rip Deck    85785.70\n",
       "2              Nike Men's Free 5.0+ Running Shoe    80691.93\n",
       "3  Diamondback Women's Serene Classic Comfort Bi    80094.66\n",
       "4                    Pelican Sunstream 100 Kayak    66196.69"
      ]
     },
     "execution_count": 12,
     "metadata": {},
     "output_type": "execute_result"
    }
   ],
   "source": [
    "#Toplam satış tutarı bakımından en çok iptal edilen ürünler\n",
    "most_cancelled_products = final_table.filter(\"orderStatus == 'CANCELED'\") \\\n",
    ".groupBy(\"productName\").agg(F.sum(\"orderItemSubTotal\").alias(\"Totalprice\")) \\\n",
    ".orderBy(F.desc(\"TotalPrice\"))\n",
    "most_cancelled_products.limit(5).toPandas().head(5)"
   ]
  },
  {
   "cell_type": "code",
   "execution_count": 14,
   "id": "d9fc5254-094f-4a48-858f-ff59580197f6",
   "metadata": {},
   "outputs": [
    {
     "name": "stderr",
     "output_type": "stream",
     "text": [
      "[Stage 49:>                                                         (0 + 1) / 1]\r"
     ]
    },
    {
     "name": "stdout",
     "output_type": "stream",
     "text": [
      "----------- 7.207326173782349 secs ----------\n"
     ]
    },
    {
     "name": "stderr",
     "output_type": "stream",
     "text": [
      "                                                                                \r"
     ]
    }
   ],
   "source": [
    "#parguet formatında kaydetmek\n",
    "import time\n",
    "start_time = time.time()\n",
    "most_cancelled_products.write.parquet('/home/train/most_cancelled_products.parquet', mode='overwrite')\n",
    "print(\"----------- %s secs ----------\" % (time.time() - start_time))"
   ]
  },
  {
   "cell_type": "code",
   "execution_count": 17,
   "id": "4f29f7e0-2fd7-408c-8bee-51d0deaf1f1f",
   "metadata": {},
   "outputs": [],
   "source": [
    "#orderDate sütununu tarih formatına çevirmek\n",
    "from pyspark.sql.functions import year, month, sum, date_format\n",
    "orders = orders.withColumn(\"orderDate\", orders[\"orderDate\"].cast(\"timestamp\"))"
   ]
  },
  {
   "cell_type": "code",
   "execution_count": 18,
   "id": "3d3b357e-f50c-4706-8f2c-b0171969753e",
   "metadata": {},
   "outputs": [
    {
     "name": "stderr",
     "output_type": "stream",
     "text": [
      "                                                                                \r"
     ]
    },
    {
     "name": "stdout",
     "output_type": "stream",
     "text": [
      "+-------+-------------------+---------------+---------------+-------------+----------------+------------------+-----------------+-----------------+---------------------+\n",
      "|orderId|          orderDate|orderCustomerId|    orderStatus|orderItemName|orderItemOrderId|orderItemProductId|orderItemQuantity|orderItemSubTotal|orderItemProductPrice|\n",
      "+-------+-------------------+---------------+---------------+-------------+----------------+------------------+-----------------+-----------------+---------------------+\n",
      "|      1|2013-07-25 00:00:00|          11599|         CLOSED|            1|               1|               957|                1|           299.98|               299.98|\n",
      "|      2|2013-07-25 00:00:00|            256|PENDING_PAYMENT|            2|               2|              1073|                1|           199.99|               199.99|\n",
      "|      2|2013-07-25 00:00:00|            256|PENDING_PAYMENT|            3|               2|               502|                5|            250.0|                 50.0|\n",
      "|      2|2013-07-25 00:00:00|            256|PENDING_PAYMENT|            4|               2|               403|                1|           129.99|               129.99|\n",
      "|      4|2013-07-25 00:00:00|           8827|         CLOSED|            5|               4|               897|                2|            49.98|                24.99|\n",
      "+-------+-------------------+---------------+---------------+-------------+----------------+------------------+-----------------+-----------------+---------------------+\n",
      "only showing top 5 rows\n",
      "\n"
     ]
    }
   ],
   "source": [
    "#dataframe Birleştirmek\n",
    "join_df = orders.join(order_items, orders[\"orderId\"] == order_items[\"orderItemOrderId\"])\n",
    "join_df.show(5)"
   ]
  },
  {
   "cell_type": "code",
   "execution_count": 19,
   "id": "9febd1ee-b29a-4151-9a73-c86da9c3db6a",
   "metadata": {},
   "outputs": [
    {
     "name": "stderr",
     "output_type": "stream",
     "text": [
      "[Stage 55:=============================>                            (1 + 1) / 2]\r"
     ]
    },
    {
     "name": "stdout",
     "output_type": "stream",
     "text": [
      "+----+---+------------------+\n",
      "| yil| ay|       toplamSatis|\n",
      "+----+---+------------------+\n",
      "|2014|  4| 2807789.799999905|\n",
      "|2013|  9| 2934527.270000152|\n",
      "|2013| 10| 2624600.610000026|\n",
      "|2014|  5| 2753078.219999891|\n",
      "|2013| 12| 2932964.270000029|\n",
      "|2014|  1|  2924447.00999994|\n",
      "|2013|  7|  764782.189999975|\n",
      "|2014|  3| 2862492.209999953|\n",
      "|2013| 11| 3168656.030000238|\n",
      "|2014|  2| 2778663.659999922|\n",
      "|2014|  6| 2703463.439999842|\n",
      "|2013|  8|   2828658.7000001|\n",
      "|2014|  7|2238496.5199998547|\n",
      "+----+---+------------------+\n",
      "\n"
     ]
    },
    {
     "name": "stderr",
     "output_type": "stream",
     "text": [
      "                                                                                \r"
     ]
    }
   ],
   "source": [
    "#yıl ve ay bazında toplam satış miktarını hesaplamak ve gruplandırmak\n",
    "ay_satis = join_df.withColumn(\"yil\", year(\"orderDate\")).withColumn(\"ay\", month(\"orderDate\")) \\\n",
    ".groupBy(\"yil\", \"ay\").agg(sum(\"orderItemSubTotal\").alias(\"toplamSatis\"))\n",
    "ay_satis.show()"
   ]
  },
  {
   "cell_type": "code",
   "execution_count": 20,
   "id": "b8f8aca5-d2c7-4d4c-af76-c31a5ab16caf",
   "metadata": {},
   "outputs": [
    {
     "name": "stderr",
     "output_type": "stream",
     "text": [
      "[Stage 59:=============================>                            (1 + 1) / 2]\r"
     ]
    },
    {
     "name": "stdout",
     "output_type": "stream",
     "text": [
      "En yüksek toplam satış 2013 yılının 11. ayında gerçekleşmiştir.\n"
     ]
    },
    {
     "name": "stderr",
     "output_type": "stream",
     "text": [
      "                                                                                \r"
     ]
    }
   ],
   "source": [
    "max_satis = ay_satis.orderBy(\"toplamSatis\", ascending=False).first()\n",
    "en_yuksek_satis_yil = max_satis[\"yil\"]\n",
    "en_yuksek_satis_ay = max_satis[\"ay\"]\n",
    "print(f\"En yüksek toplam satış {en_yuksek_satis_yil} yılının {en_yuksek_satis_ay}. ayında gerçekleşmiştir.\")"
   ]
  },
  {
   "cell_type": "code",
   "execution_count": 21,
   "id": "eddcf5e0-6612-4384-94b5-cefbe8e138bb",
   "metadata": {},
   "outputs": [],
   "source": [
    "#orderDate sütununu gün formatına dönüştürmek\n",
    "join_df2 = join_df.withColumn(\"orderDate\", date_format(\"orderDate\", \"yyyy-MM-dd\"))\n",
    "join_df2 = join_df2.withColumn(\"gun\", date_format(\"orderDate\", \"E\"))"
   ]
  },
  {
   "cell_type": "code",
   "execution_count": 22,
   "id": "3b6ae08c-5620-44b9-a88f-5accbcc88621",
   "metadata": {},
   "outputs": [
    {
     "name": "stderr",
     "output_type": "stream",
     "text": [
      "[Stage 63:=============================>                            (1 + 1) / 2]\r"
     ]
    },
    {
     "name": "stdout",
     "output_type": "stream",
     "text": [
      "+---+-----------------+\n",
      "|gun|      toplamSatis|\n",
      "+---+-----------------+\n",
      "|Sun|4846988.500000717|\n",
      "|Mon|4558745.380000613|\n",
      "|Thu| 4977875.18000086|\n",
      "|Sat|4946465.980000845|\n",
      "|Wed|4904572.310000682|\n",
      "|Fri|5172864.230001052|\n",
      "|Tue|4915108.350000845|\n",
      "+---+-----------------+\n",
      "\n"
     ]
    },
    {
     "name": "stderr",
     "output_type": "stream",
     "text": [
      "                                                                                \r"
     ]
    }
   ],
   "source": [
    "#haftanın günlerinde toplam ne kadar satış olduğunu hesaplamak ve gruplandırmak\n",
    "haftalik_satis = join_df2.groupBy(\"gun\").agg(sum(\"orderItemSubTotal\").alias(\"toplamSatis\"))\n",
    "haftalik_satis.show()"
   ]
  },
  {
   "cell_type": "code",
   "execution_count": 24,
   "id": "708bdcf2-a882-49c7-a9d7-deb022e8c391",
   "metadata": {},
   "outputs": [
    {
     "name": "stderr",
     "output_type": "stream",
     "text": [
      "[Stage 67:=============================>                            (1 + 1) / 2]\r"
     ]
    },
    {
     "name": "stdout",
     "output_type": "stream",
     "text": [
      "En yüksek toplam satış Cuma gününde gerçekleşmiştir.\n"
     ]
    },
    {
     "name": "stderr",
     "output_type": "stream",
     "text": [
      "                                                                                \r"
     ]
    }
   ],
   "source": [
    "from pyspark.sql.functions import col\n",
    "en_yuksek_satis = haftalik_satis.orderBy(col(\"toplamSatis\").desc()).first()\n",
    "gun_adi = {\n",
    "    \"Mon\": \"Pazartesi\",\n",
    "    \"Tue\": \"Salı\",\n",
    "    \"Wed\": \"Çarşamba\",\n",
    "    \"Thu\": \"Perşembe\",\n",
    "    \"Fri\": \"Cuma\",\n",
    "    \"Sat\": \"Cumartesi\",\n",
    "    \"Sun\": \"Pazar\"\n",
    "}\n",
    "en_yuksek_satis_gun = gun_adi.get(en_yuksek_satis[\"gun\"])\n",
    "print(f\"En yüksek toplam satış {en_yuksek_satis_gun} gününde gerçekleşmiştir.\")"
   ]
  },
  {
   "cell_type": "code",
   "execution_count": null,
   "id": "888a5718-12a7-4ffd-a843-c9942907f8fd",
   "metadata": {},
   "outputs": [],
   "source": []
  }
 ],
 "metadata": {
  "kernelspec": {
   "display_name": "Python 3 (ipykernel)",
   "language": "python",
   "name": "python3"
  },
  "language_info": {
   "codemirror_mode": {
    "name": "ipython",
    "version": 3
   },
   "file_extension": ".py",
   "mimetype": "text/x-python",
   "name": "python",
   "nbconvert_exporter": "python",
   "pygments_lexer": "ipython3",
   "version": "3.8.18"
  }
 },
 "nbformat": 4,
 "nbformat_minor": 5
}
